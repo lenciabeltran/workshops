{
 "cells": [
  {
   "cell_type": "markdown",
   "id": "aabe803f-df87-4b3b-96d6-9c0365fe5168",
   "metadata": {},
   "source": [
    "# Working with Files and Directories"
   ]
  },
  {
   "cell_type": "markdown",
   "id": "4844d021-2d0b-4062-9074-3e5d128b8e22",
   "metadata": {},
   "source": [
    "### Creating directories"
   ]
  },
  {
   "cell_type": "markdown",
   "id": "e644f5c1-836b-48be-a6bd-58e3993db36d",
   "metadata": {},
   "source": [
    "There are two ways of creating a directory. The first way is using your computer's graphical file explorer, and the second creating a directory in the shell. Both methods accomplish the same task. \n",
    "\n",
    "You can create a new directory by using the command `mkdir` which means 'make directory'. \n",
    "\n",
    "<p align='center'>\n",
    "   <img alt=\"mkdir\" src=\"mkdircommand.png\" width=\"300\"/>\n",
    " </p>\n",
    " \n",
    "It's possible to create a directory with nested subdirectories in a single operation using the option `-p`with your `mkdir` command. \n",
    "\n",
    "<p align='center'>\n",
    "   <img alt=\"mkdirp\" src=\"mkdirpcommand.png\" width=\"400\"/>\n",
    " </p>\n",
    " \n",
    "To be sure the nested subdirectories were created in your directory hierarchy, type `ls -FR` and directory name. See example below:  \n",
    "\n",
    "<p align='center'>\n",
    "   <img alt=\"directoryhierarchy\" src=\"directoryhierarchy.png\" width=\"250\"/>\n",
    " </p>"
   ]
  },
  {
   "cell_type": "markdown",
   "id": "02957e7a-a6a3-49de-ba1d-36abd830f44a",
   "metadata": {},
   "source": [
    "### Creating text files using a text editor"
   ]
  },
  {
   "cell_type": "markdown",
   "id": "29f0a508-866c-4a2f-9d0d-2070cbda44e3",
   "metadata": {},
   "source": [
    "There are several *powerful* and flexible text editors, but whichever one you choose to use, it's good to know where the editor searches and saves files.\n",
    "\n",
    "`nano` is an editor that works only with plain character data (i.e., no tables, images, etc.)\n",
    "\n",
    "To create a text file using `nano`, run the text editor `nano` and type a *filename*. \n",
    "\n",
    "<p align='center'>\n",
    "   <img alt=\"nanocreate\" src=\"nanocreate.png\" width=\"250\"/>\n",
    " </p>\n",
    "\n",
    " \n",
    "This will take you into the `nano` text editor. Once text has been written press **<kbd>control</kbd>**+\n",
    "**<kbd>o</kbd>** or **<kbd>Ctrl</kbd>**+**<kbd>o</kbd>**. You will be asked to provide a namefor the file that will contain your text. Then press **<kbd>Return</kbd>** or **<kbd>Enter</kbd>** to accept. \n",
    "\n",
    "<p align='center'>\n",
    "   <img alt=\"nanotext\" src=\"nanotext.png\" width=\"400\"/>\n",
    "\n",
    "<p align='center'>\n",
    "   <img alt=\"nanosave\" src=\"nanosave.png\" width=\"400\"/>\n",
    " </p>\n",
    "\n",
    "Once the file is saved, to quit the editor and return to the shell use **<kbd>control</kbd>**+**<kbd>x</kbd>** or **<kbd>Ctrl</kbd>**+**<kbd>x</kbd>** \n",
    "\n",
    "<p align='center'>\n",
    "   <img alt=\"nanoquit\" src=\"nanoquit.png\" width=\"400\"/>\n",
    " </p>\n",
    "\n",
    "\n",
    "**Tip:** make sure you are in the working directory you want the text file to be created in."
   ]
  },
  {
   "cell_type": "markdown",
   "id": "4804fbbc-4297-440f-b775-797e03268294",
   "metadata": {},
   "source": [
    "### Move files and directories"
   ]
  },
  {
   "cell_type": "markdown",
   "id": "243561c0-b49a-4f56-9b13-60c6b8b335e0",
   "metadata": {},
   "source": [
    "To change a **file or directory name** you can use the `mv` command, which is short for *move* \n",
    "\n",
    "<p align='center'>\n",
    "   <img alt=\"movecommand\" src=\"movecommand.png\" width=\"400\"/>\n",
    " </p>\n",
    " \n",
    "The first argument `thesis/draft.txt` tells `mv` what we are *moving*, while the second argument `thesis/quotes.txt`. This is essentially the same as renaming a file. \n",
    "\n",
    "**Note:** using the `mv` command will overwrite any existing files with the same name, which can lead to data loss. To cause `mv` to request a confirmation, add `-i` option. \n",
    "\n",
    "~~~ bash\n",
    "$ mv -i thesis/draft.txt thesis/quotes.txt\n",
    "~~~ \n",
    "\n",
    "The `mv` command can also move files to different directories. \n",
    "\n",
    "<p align='center'>\n",
    "   <img alt=\"movefile\" src=\"movefile.png\" width=\"300\"/>\n",
    " </p>"
   ]
  },
  {
   "cell_type": "markdown",
   "id": "aa899465-cb53-4d67-8f1f-22699a5ea91c",
   "metadata": {},
   "source": [
    "### Copy files and directories"
   ]
  },
  {
   "cell_type": "markdown",
   "id": "76b0b59e-1070-4b08-9f37-01ee5e1d9795",
   "metadata": {},
   "source": [
    "To create a copy of a file or directory, you can use the `cp` *copy* command. The `cp` command works similarly to `mv` except that you are creating a copy rather than moving or renaming it. \n",
    "\n",
    "<p align='center'>\n",
    "   <img alt=\"copycommand\" src=\"copycommand.png\" width=\"400\"/>\n",
    "<p align='center'>\n",
    "   <img alt=\"lscopy\" src=\"lscopy.png\" width=\"400\"/>\n",
    " </p>\n",
    "\n",
    "To create a back up of a directory, you can use a recursive option `-r`. This will create a copy of a directory and all its contents. \n",
    "\n",
    "<p align='center'>\n",
    "   <img alt=\"cprecursiver\" src=\"cprecursiver.png\" width=\"350\"/>\n",
    "<p align='center'>\n",
    "   <img alt=\"cprecursiveroutput\" src=\"cprecursiveroutput.png\" width=\"350\"/>\n",
    " </p>\n"
   ]
  },
  {
   "cell_type": "markdown",
   "id": "bcac321c-5d5d-4d4e-9038-403512dd3147",
   "metadata": {
    "tags": []
   },
   "source": [
    "### Remove files and directories"
   ]
  },
  {
   "cell_type": "markdown",
   "id": "b4220853-7fc1-4cb8-8678-1b55202128ab",
   "metadata": {},
   "source": [
    "Command Line makes it simple to remove files and tidy up a directories using the `rm` command, short for *remove*. To remove directories you can you add the recursive option `-r`, which would look like `-r rm`.  \n",
    "\n",
    "**Note**: when you use the `rm` or `rm -r` commands it permanently deletes a file or directory. It does not go into a trash bin. To make sure you want to remove a file you can add the interactive option `-i`.\n",
    "\n",
    "Safely remove a file:\n",
    "~~~bash\n",
    "$ rm -i\n",
    "~~~ \n",
    "\n",
    "Safely remove a directory:\n",
    "~~~bash\n",
    "$ rm -r -i\n",
    "~~~~\n"
   ]
  },
  {
   "cell_type": "markdown",
   "id": "fbd0dbdb-6f92-450b-8481-e87198094006",
   "metadata": {},
   "source": [
    "### Wildcards"
   ]
  },
  {
   "cell_type": "markdown",
   "id": "8630c5a5-1a81-42fc-9ca5-42798f2c2fc8",
   "metadata": {},
   "source": [
    "Wildcards are special characters `*` and `?` that prompt shell to create a list of matching filenames before running a command. Using wildcards can be helpful when trying to access multiple files at once.\n",
    "\n",
    "`*` represents zero or more other characters. For example, `*ethane.pdb` would match both `ethane.pdb` and `methane.pdb`\n",
    "\n",
    "`?` represents exactly one character. For example, `?ethane.pdb` would match only `methane.pdb` and <u>*not*</u> `ethane.pdb`"
   ]
  },
  {
   "cell_type": "code",
   "execution_count": null,
   "id": "6802951d-01a9-4e79-a33f-c5c700076600",
   "metadata": {},
   "outputs": [],
   "source": []
  }
 ],
 "metadata": {
  "kernelspec": {
   "display_name": "Python 3 (ipykernel)",
   "language": "python",
   "name": "python3"
  },
  "language_info": {
   "codemirror_mode": {
    "name": "ipython",
    "version": 3
   },
   "file_extension": ".py",
   "mimetype": "text/x-python",
   "name": "python",
   "nbconvert_exporter": "python",
   "pygments_lexer": "ipython3",
   "version": "3.9.12"
  }
 },
 "nbformat": 4,
 "nbformat_minor": 5
}
