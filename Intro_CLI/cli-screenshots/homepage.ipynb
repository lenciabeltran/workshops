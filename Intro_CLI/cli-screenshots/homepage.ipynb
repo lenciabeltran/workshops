{
 "cells": [
  {
   "cell_type": "markdown",
   "id": "00fb08b5-08de-44c3-86a8-8661383b67ec",
   "metadata": {},
   "source": [
    "# Introduction to Command Line Interface"
   ]
  },
  {
   "cell_type": "markdown",
   "id": "fed61111-2369-4765-b867-ee4c30045843",
   "metadata": {},
   "source": [
    "Welcome to this introductory workshop on Command Line. (SEE WORKSHOP DESCRIPTION). See the schedule or table of contents below to navigate through all the workshop material."
   ]
  },
  {
   "cell_type": "markdown",
   "id": "aa6b6f8f-fa56-4d6a-baa3-a9e77999053b",
   "metadata": {
    "tags": []
   },
   "source": [
    "### Presenters\n",
    "\n",
    "already setup..."
   ]
  },
  {
   "cell_type": "markdown",
   "id": "0d7c2bf2-e614-440d-b05b-8765ee049e31",
   "metadata": {},
   "source": [
    "### Setup\n",
    "\n",
    "already setup.... "
   ]
  },
  {
   "cell_type": "markdown",
   "id": "7481c77f-4336-4fef-9169-3dd7f31067ae",
   "metadata": {},
   "source": [
    "### Goal of this Workshop\n",
    "MODIFY VERBIAGE ETC.\n",
    "\n",
    "- Explain the similarities and differences between a file and a directory.\n",
    "- Translate an absolute path into a relative path and vice versa.\n",
    "- Construct absolute and relative paths that identify specific files and directories.\n",
    "- Use options and arguments to change the behaviour of a shell command.\n",
    "- Demonstrate the use of tab completion and explain its advantages.\n",
    "- Create a directory hierarchy that matches a given diagram.\n",
    "- Create files in that hierarchy using an editor or by copying and renaming existing files.\n",
    "- Delete, copy and move specified files and/or directories."
   ]
  },
  {
   "cell_type": "code",
   "execution_count": null,
   "id": "1f885c69-a957-461f-aeee-5e7e797d111b",
   "metadata": {},
   "outputs": [],
   "source": []
  }
 ],
 "metadata": {
  "kernelspec": {
   "display_name": "Python 3 (ipykernel)",
   "language": "python",
   "name": "python3"
  },
  "language_info": {
   "codemirror_mode": {
    "name": "ipython",
    "version": 3
   },
   "file_extension": ".py",
   "mimetype": "text/x-python",
   "name": "python",
   "nbconvert_exporter": "python",
   "pygments_lexer": "ipython3",
   "version": "3.9.12"
  }
 },
 "nbformat": 4,
 "nbformat_minor": 5
}
