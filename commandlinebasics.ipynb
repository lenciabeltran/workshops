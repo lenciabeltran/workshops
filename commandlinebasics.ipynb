{
 "cells": [
  {
   "cell_type": "markdown",
   "id": "53ead612-0825-457a-a2d7-0c5a7eb954ed",
   "metadata": {
    "tags": []
   },
   "source": [
    "### Table of Contents:\n",
    "\n",
    "- Opening the command line \n",
    "- Navigating through files\n",
    "- Creating files and directories\n",
    "- Getting help\n",
    "- Accessing the command history\n",
    "- Examining files\n",
    "- Searching files & directories\n",
    "- Command Line Maze!\n",
    "- Contact Us!"
   ]
  },
  {
   "cell_type": "markdown",
   "id": "f84c7e92-2d31-43df-b015-c79e49b5a245",
   "metadata": {},
   "source": [
    "#### Opening Command Line/Terminal\n",
    "\n",
    "- Windows: \n",
    "    1. Download and install [git for windows](https://gitforwindows.org)\n",
    "    2. After it's installed, click on the start menu and type into the search bar git bash. OR if the icon appears on your desktop you can click on the icon to bring up git bash.\n",
    "\n",
    " - Mac: \n",
    "    1. Click command and space bar then type terminal\n",
    "    2. Click spotlight search icon (magnifying glass), then type terminal "
   ]
  },
  {
   "cell_type": "markdown",
   "id": "e379ac54-0087-40d9-a1cb-059f2d49f9b4",
   "metadata": {},
   "source": [
    "#### Navigating Through Files \n",
    "\n",
    "- `pwd` AKA print working directory\n",
    "- `ls` AKA print a list of items in your working directory (including different options); \n",
    "   1. `ls -a` (show all, including hidden files) \n",
    "   2. `ls -F`(add trailing /) / means it's a directory and * means it's a program\n",
    "   3. `ls -l` (lists files in long format, including permissions, timestamps, file size, and other details.)\n",
    "\n",
    "- Navigating up files\n",
    "   1. `cd` `[directory name]`\n",
    "- Navigating down files\n",
    "  2. `cd..` (move back a directory)\n",
    "  3. `cd ~` (takes you straight to your root/home directory)\n",
    "  4. `cd`  (also takes you straight to your root/home directory)\n",
    "  \n",
    "Key points: `.` is the current directory and `..` is the parent directory"
   ]
  },
  {
   "cell_type": "markdown",
   "id": "f8eae0a1-2fa2-4c9d-b93b-68491f18f117",
   "metadata": {},
   "source": [
    "#### Creating Files & Directories\n",
    "- Navigate to your desktop & create 3 new directories. The first directory will be on your desktop. \n",
    "    - `mkdir name1`\n",
    "- Navigate into the directory you just created by tpying `cd name1` and then make 2 directories. We can do this quickly by listing both names as shown below. Note, be careful you dont add a space in a name because that will make two directories!!\n",
    "    - `mkdir name2 name3`\n",
    "\n",
    "#### Getting Help\n",
    "- To access the general command manual for macOS the command is `man man`\n",
    "- You can access manual for specific commands by typing in `man` and the specific command. \n",
    "    - For example: \n",
    "    ~~~ bash\n",
    "        $ man ls\n",
    "    ~~~\n",
    "- Press the lowercase `q` on your keyboard to exit man pages\n"
   ]
  },
  {
   "cell_type": "markdown",
   "id": "60c9d592-67ea-450f-8dc9-860f1c5e1e95",
   "metadata": {},
   "source": [
    "#### Accessing Command History\n",
    "\n",
    "- To repeat the most recent/recently command run, use the up arrow\n",
    "- The down arrow will take you forward in your in the command history  \n",
    "    - Ctrl+C will cancel the command you are writing, and give you a fresh prompt.\n",
    "    - Ctrl+R will do a reverse-search through your command history. This is very useful.\n",
    "    - Ctrl+L or the clear command will clear your screen.\n",
    "\n",
    "- To review recent command history\n",
    "    - `history` \n",
    "- To rerun a specific command in your command history \n",
    "    - add a `!` in front of the number\n",
    "        - Example:\n",
    "        ~~~bash\n",
    "            $ !22\n",
    "        ~~~\n",
    "\n",
    "#### Examining Files \n",
    "\n",
    "- To examine content (especially larger content) in a file you can use `cat` or `less`. `less` is great because it displays a file one screenful at a time. However, `cat` can be a more straightforward option.\n",
    "    - Example:\n",
    "    ~~~bash\n",
    "        $ less filename.txt\n",
    "    ~~~\n",
    "    \n",
    "        - Press your Space bar to go forward\n",
    "        - Press lowercase b to go backward\n",
    "        - Press lowercase q to quit\n",
    "        \n",
    "    - Example:\n",
    "    ~~~bash\n",
    "        $ cat filename.txt\n",
    "    ~~~\n",
    "    \n",
    "- If you want to peek at the first or last few lines of a file, use `head` or `tail`. `head` and `tail` will print 10 lines by default. Use `-n` with a number to print a specific number of lines (e.g., `head -n3 filename.txt`)\n",
    "\n",
    "    - To view the number of lines, words and characters in the file use `wc filename.txt`\n",
    "       \n",
    "    - Use `-l`, `-w`, or `-c` options to print only the number of lines, words, or characters. For example `wc -l filename.txt`\n",
    "       \n",
    "- Wildcards or meta characters can also be used to examine or search for content  \n",
    "    - `*` represents **any** number of unknown characters. For example we can search and print a list of files that contain a specific string e.g., we can search for a list of files that end in .txt using the `*` wildcard: (This might not yield many results but it's meant to illustrate the idea)\n",
    "        - Example:\n",
    "            ~~~ bash\n",
    "             $ ls *.txt\n",
    "            ~~~     \n",
    "    \n",
    "#### Searching Files & Directories  \n",
    "- `grep` can be used to search text files for lines matching a specific set of characters or a paticular pattern. \n",
    "    - Syntax:\n",
    "        ~~~ bash\n",
    "         $ grep [option/flag] PATTERN [file...]\n",
    "         ~~~\n",
    "\n",
    "- To execute several processes at the same time, use a pipe `|`. With a pipe, `grep` can also recieve input from the first command's output to search for specific directories. \n",
    "    - Example:\n",
    "    ~~~bash\n",
    "        $ find . -type d -name \"*ABC*\" | grep 123\n",
    "    ~~~\n",
    "    \n",
    "The example above is searching for (or finding) (`find`) a directory or directories (`-type d`) that have the pattern ABC (`\"*ABC*\"`) somewhere in the name (`-name`) within the current working direcotry (`.`). And the output from `find` is being received as input from `grep` and then searching to match the pattern (`123`).\n",
    "\n",
    "- By default `grep` is case sensitive. So to search for lowercase letters use the option `-i` which will perform case insensitive matching. \n",
    "\n",
    "- You can also have `grep` search for inverted matches, i.e., that don’t match a given pattern, with the `-v` option.\n"
   ]
  },
  {
   "cell_type": "markdown",
   "id": "d302a3ff-44be-475c-9a80-817e3af8014e",
   "metadata": {},
   "source": [
    "#### Access the [command-line-maze](https://github.com/dd388/command-line-maze) to go on a pipeline adventure!\n",
    "(tip: use this notebook as a guide!)"
   ]
  },
  {
   "cell_type": "markdown",
   "id": "8416fc52-9f88-44f0-8781-04b35002287b",
   "metadata": {},
   "source": [
    "### Have questions? Contact us!\n",
    "\n",
    "**Instructors:** \n",
    "- Lencia Beltran, lcb235@cornell.edu\n",
    "- Dianne Dietrich, dd388@cornell.edu\n",
    "\n",
    "**OR**\n",
    "- open-scholarship@cornell.edu (click to visit [Research Data & Open Scholarship](https://library.cornell.edu/about/staff/central-departments/rdos/))\n",
    "- data-help@cornell.edu (click to visit [Cornell Data Services](https://data.research.cornell.edu/))"
   ]
  },
  {
   "cell_type": "markdown",
   "id": "883fd29e-52dd-4e17-95c3-e6473065e061",
   "metadata": {},
   "source": [
    "### That's all for now folks!"
   ]
  },
  {
   "cell_type": "code",
   "execution_count": null,
   "id": "01194a90-b684-4425-895d-4f6bdd70a412",
   "metadata": {},
   "outputs": [],
   "source": []
  }
 ],
 "metadata": {
  "kernelspec": {
   "display_name": "Python 3 (ipykernel)",
   "language": "python",
   "name": "python3"
  },
  "language_info": {
   "codemirror_mode": {
    "name": "ipython",
    "version": 3
   },
   "file_extension": ".py",
   "mimetype": "text/x-python",
   "name": "python",
   "nbconvert_exporter": "python",
   "pygments_lexer": "ipython3",
   "version": "3.13.0"
  }
 },
 "nbformat": 4,
 "nbformat_minor": 5
}
