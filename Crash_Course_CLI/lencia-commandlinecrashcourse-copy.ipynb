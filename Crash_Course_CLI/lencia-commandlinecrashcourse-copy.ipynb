{
 "cells": [
  {
   "cell_type": "markdown",
   "id": "e35180c0-b60e-4c55-be5d-92881a941021",
   "metadata": {},
   "source": [
    "Lencia's Copy\n"
   ]
  },
  {
   "cell_type": "markdown",
   "id": "53ead612-0825-457a-a2d7-0c5a7eb954ed",
   "metadata": {
    "tags": []
   },
   "source": [
    "### Table of Contents:\n",
    "\n",
    "- Opening the command line \n",
    "- Navigating through files\n",
    "- Creating files and directories\n",
    "- Nano Text Editor\n",
    "- Accessing command history\n",
    "- Examine Content\n",
    "- Copying and moving files\n",
    "- Removing files and directories"
   ]
  },
  {
   "cell_type": "markdown",
   "id": "f84c7e92-2d31-43df-b015-c79e49b5a245",
   "metadata": {},
   "source": [
    "#### Opening Command Line/Terminal\n",
    "- Windows: \n",
    "    1. Click the Windows icon to bring up your start menu. Type cmd into the search box.\n",
    "    2. Select the command prompt entry and click open.\n",
    "    3. Occasionally, you must select the run as administrator option to use higher-level system commands.\n",
    " - Mac: \n",
    "    1. click command and space bar then type terminal\n",
    "    2. click spotlight search icon (magnifying glass), then type terminal "
   ]
  },
  {
   "cell_type": "markdown",
   "id": "e379ac54-0087-40d9-a1cb-059f2d49f9b4",
   "metadata": {},
   "source": [
    "#### Navigating Through Files \n",
    "\n",
    "- `pwd` AKA print working directory\n",
    "- `ls` AKA print a list of items in your working directory (including different options); \n",
    "   1. `ls -a` (show all) \n",
    "   2. `ls -F`(add trailing /) / means it's a directory and * means it's a program\n",
    "   3. `ls -l`\n",
    "   4. `ls -Fa`\n",
    "   5. `ls -laF`\n",
    "- Navigating up files\n",
    "   1. `cd`\n",
    "- Navigating down files\n",
    "   2. `cd..` (move back a directory)\n",
    "        - To view files in higher level directories can also do `ls ../` which will go back 2 levels and show your root/home directory (lbeltran) or go back 1 level `ls ../../` to see files in your Desktop directory  \n",
    "  3. `cd ~` takes you straight to your root/home directory \n",
    "      - Question! What is the different between `cd..` and `cd~` ? \n",
    "- Relative and absolute paths\n",
    "    1. A relative path always starts with / and gives the full address from the home directory (think of this as getting GPS coordinates, no matter where you are it will tell you where something is and how to get there) \n",
    "    2. An abosolute path will only give the address from the working directory, and does not start with a / (analogous to getting directions from someone on the street in real time)\n"
   ]
  },
  {
   "cell_type": "markdown",
   "id": "f8eae0a1-2fa2-4c9d-b93b-68491f18f117",
   "metadata": {},
   "source": [
    "#### Creating Files & Directories\n",
    "- Navigate to their desktop & create 3 new directories. The first directory will be on your desktop. \n",
    "    - `mkdir name1`\n",
    "- Navigate into doing `cd name1` and then make 2 directories. We can do this quickly by listing both names as shown below. Note, be careful you dont add a space in a name because that will make two directories!!\n",
    "    - `mkdir name2 name3`\n",
    "- Navitgate into `name2` directory \n",
    "    1. and create a nano text file\n",
    "\n",
    "#### Nano Editor\n",
    "- Open up the nano text editor or your favorite text editor. Note, this may be different for \n",
    "    - `nano` \n",
    "- Copy and paste [text](http://shakespeare.mit.edu/hamlet/full.html) \n",
    "    1. access help in nano by\n",
    "        - (control G)\n",
    "- Save the text (control C) and name the file `practicetext_1`\n",
    "- Exit the editor (control X)\n",
    "\n"
   ]
  },
  {
   "cell_type": "markdown",
   "id": "60c9d592-67ea-450f-8dc9-860f1c5e1e95",
   "metadata": {},
   "source": [
    "#### Accessing Command History\n",
    "\n",
    "- To repeat the most recent/recently command run, use the up arrow\n",
    "- The down arrow will take you forward in your in the command history  \n",
    "    - Ctrl+C will cancel the command you are writing, and give you a fresh prompt.\n",
    "    - Ctrl+R will do a reverse-search through your command history. This is very useful.\n",
    "    - Ctrl+L or the clear command will clear your screen.\n",
    "\n",
    "\n",
    "- To review recent command history\n",
    "    - `history` \n",
    "- To rerun a specific command in your command history \n",
    "    - add a ! in front of the number\n",
    "        - e.g., `!22`\n",
    "\n",
    "#### Examining Files \n",
    "\n",
    "- To examine content in a file you can use `less`\n",
    "    - `less practicetext1`\n",
    "        - Space\tto go forward\n",
    "        - b\tto go backward\n",
    "        - g\tto go to the beginning\n",
    "        - G\tto go to the end\n",
    "        - q\tto quit\n",
    "    - `head practicetext_1`\n",
    "    - `tail practicetext_1`\n",
    "        1. use `-n` option after head/tail to print only the first or last line\n",
    "    - `wc practicetext_1`\n",
    "        1. to view the number of lines, words and characters in the file\n",
    "    - `wc -l practicetext_1`\n",
    "        2. to view only the number of lines\n",
    "            \n",
    "    \n",
    "    \n",
    "#### Copying and moving \n",
    "- Make a copy of the text file\n",
    "    - `cp practicetext_1  practicetext_1_copy`\n",
    "    - check that a copy of our text data was made `ls -F`\n",
    "- Make a backup directory to store the copy of the text data and any copies\n",
    "    - `mkdir backup`\n",
    "    - Note: make sure you are creating directories in the correct working directory (i.e., make sure you are in the right working directory)\n",
    "- Move your copy of the text data into the backup directory\n",
    "    - `mv practicetext_1_copy backup`\n",
    "- You can either navigate to backup and type ls OR type `ls backup`\n",
    "- Rename the copy of the text\n",
    "    - `mv` also let's you rename files \n",
    "        - `mv practicetext_1_copy practicetext_1_backup`"
   ]
  },
  {
   "cell_type": "markdown",
   "id": "715da746-2e75-490c-a4a4-ee48fe861697",
   "metadata": {},
   "source": [
    "#### Removing Files & Directories\n",
    "\n",
    "- Remove the backup copy of the text file\n",
    "    - `rm practicetext_1_backup`\n",
    "- Remove all of the directories under name1\n",
    "    - `rm -r name1`\n",
    "        - A recursive flag `-r` will need to be added to tell rm to remove a directory\n",
    "    - Note, remove will permanently delete a file but also any content in a directory (i.e., not only the directory name1 but will also remove everything in the directory)\n",
    "    \n",
    "##### That's all folks!\n",
    "    "
   ]
  },
  {
   "cell_type": "markdown",
   "id": "f4ded929-b8cf-4c9e-a24c-761f1ee7e444",
   "metadata": {},
   "source": [
    "If there's more time check out:\n",
    "- [pipes and for loops](https://datacarpentry.org/shell-genomics/04-redirection.html#file-extensions---part-2) (there's also [file manipulation](https://datacarpentry.org/shell-genomics/04-redirection.html#file-extensions---part-2))\n",
    "- [moving and downloading data](https://datacarpentry.org/shell-genomics/04-redirection.html#file-extensions---part-2)"
   ]
  },
  {
   "cell_type": "code",
   "execution_count": 1,
   "id": "38127adf-607f-4a65-baa9-b613b558e58b",
   "metadata": {},
   "outputs": [
    {
     "ename": "SyntaxError",
     "evalue": "invalid syntax (2216039974.py, line 1)",
     "output_type": "error",
     "traceback": [
      "\u001b[0;36m  Input \u001b[0;32mIn [1]\u001b[0;36m\u001b[0m\n\u001b[0;31m    jupyter-nbconvert --to pdfviahtml lencia-commandlinecrashcourse.ipynb\u001b[0m\n\u001b[0m                           ^\u001b[0m\n\u001b[0;31mSyntaxError\u001b[0m\u001b[0;31m:\u001b[0m invalid syntax\n"
     ]
    }
   ],
   "source": [
    "jupyter-nbconvert --to pdfviahtml lencia-commandlinecrashcourse.ipynb"
   ]
  },
  {
   "cell_type": "code",
   "execution_count": null,
   "id": "abb36b8d-f361-43f9-8f71-dbb5255406a0",
   "metadata": {},
   "outputs": [],
   "source": []
  }
 ],
 "metadata": {
  "kernelspec": {
   "display_name": "Python 3 (ipykernel)",
   "language": "python",
   "name": "python3"
  },
  "language_info": {
   "codemirror_mode": {
    "name": "ipython",
    "version": 3
   },
   "file_extension": ".py",
   "mimetype": "text/x-python",
   "name": "python",
   "nbconvert_exporter": "python",
   "pygments_lexer": "ipython3",
   "version": "3.9.12"
  }
 },
 "nbformat": 4,
 "nbformat_minor": 5
}
