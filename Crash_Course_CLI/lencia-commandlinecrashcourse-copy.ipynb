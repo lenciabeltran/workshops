{
 "cells": [
  {
   "cell_type": "markdown",
   "id": "53ead612-0825-457a-a2d7-0c5a7eb954ed",
   "metadata": {
    "tags": []
   },
   "source": [
    "### Table of Contents:\n",
    "\n",
    "- Opening the command line \n",
    "- Navigating through files\n",
    "- Creating files and directories\n",
    "- Nano Text Editor\n",
    "- Accessing command history\n",
    "- Examine Content\n",
    "- Copying and moving files\n",
    "- Removing files and directories"
   ]
  },
  {
   "cell_type": "markdown",
   "id": "f84c7e92-2d31-43df-b015-c79e49b5a245",
   "metadata": {},
   "source": [
    "#### Opening Command Line/Terminal\n",
    "- Windows: \n",
    "    1. Click the Windows icon to bring up your start menu. Type cmd into the search box.\n",
    "    2. Select the command prompt entry and click open.\n",
    "    3. Occasionally, you must select the run as administrator option to use higher-level system commands.\n",
    " - Mac: \n",
    "    1. click command and space bar then type terminal\n",
    "    2. click spotlight search icon (magnifying glass), then type terminal "
   ]
  },
  {
   "cell_type": "markdown",
   "id": "e379ac54-0087-40d9-a1cb-059f2d49f9b4",
   "metadata": {},
   "source": [
    "#### Navigating Through Files \n",
    "\n",
    "- `pwd` AKA print working directory\n",
    "- `ls` AKA print a list of items in your working directory (including different options); \n",
    "   1. `ls -a` (show all) \n",
    "   2. `ls -F`(add trailing /) / means it's a directory and * means it's a program\n",
    "   3. `ls -l`\n",
    "   4. `ls -Fa`\n",
    "   5. `ls -laF`\n",
    "- Navigating up files\n",
    "   1. `cd`\n",
    "- Navigating down files\n",
    "   2. `cd..` (move back a directory)\n",
    "        - To view files in higher level directories can also do `ls ../` which will go back 2 levels and show your root/home directory (e.g., lbeltran) or go back 1 level `ls ../../` to see files in your Desktop directory  \n",
    "  3. `cd ~` takes you straight to your root/home directory \n",
    "      - Question! What is the different between `cd..` and `cd~` ?\n",
    "      \n",
    "#### Relative and absolute paths\n",
    "1. A **relative path** specifies the location of a file or directory relative to the current working directory (i.e., the directory you are currently in).\n",
    "- Example:\n",
    "    - current directory: `/home/user/documents/`\n",
    "    - relative path: `projects/reports.txt` (points to `home/user/documents/projects/report.txt`) \n",
    "           \n",
    "- Advantages:\n",
    "    1. Easier to use when referencing files within the same project or nearby directories\n",
    "    2. Allows portability across systems where the absolute root path may differ\n",
    "   \n",
    "- Key points: often starts with `./` (current directory) or `../` (parent directory)\n",
    "    <br>\n",
    "    <br>\n",
    "2. An **abosolute path** specifies the complete location of a file or directory starting from the root of the file system. \n",
    "- Example:\n",
    "    - absolute path: `/home/user/documents/projects/report.txt`\n",
    "    \n",
    "- Advantages:\n",
    "    1. Unambiguous, as it always points to the exact same location, regardless of the current working directory\n",
    "    2. Usfeul in scripts or configurations that require fixed references. \n",
    "    \n",
    "- Key points: always starts with `/` (root directory on Unix-like systems) or a drive letter (e.g., `C:\\` on Windows).\n"
   ]
  },
  {
   "cell_type": "markdown",
   "id": "f8eae0a1-2fa2-4c9d-b93b-68491f18f117",
   "metadata": {},
   "source": [
    "#### Creating Files & Directories\n",
    "- Navigate to your desktop & create 3 new directories. The first directory will be on your desktop. \n",
    "    - `mkdir name1`\n",
    "- Navigate into doing `cd name1` and then make 2 directories. We can do this quickly by listing both names as shown below. Note, be careful you dont add a space in a name because that will make two directories!!\n",
    "    - `mkdir name2 name3`\n",
    "- Navitgate into `name2` directory \n",
    "    1. and create a nano text file\n",
    "\n",
    "#### Nano Editor\n",
    "- Open up the nano text editor or your favorite text editor. Note, this may be different for \n",
    "    - `nano` \n",
    "- Copy and paste [text](http://shakespeare.mit.edu/hamlet/full.html) \n",
    "    1. access help in nano by\n",
    "        - (control G)\n",
    "- Save the text (control C) and name the file `practicetext_1`\n",
    "- Exit the editor (control X)\n",
    "\n",
    "#### Getting Help\n",
    "- To access the general command manual for macOS the command is `man ls`\n",
    "- You might also try in bash `man man`\n",
    "- Press the lowercase `q` on your keyboard to exit man pages\n"
   ]
  },
  {
   "cell_type": "markdown",
   "id": "60c9d592-67ea-450f-8dc9-860f1c5e1e95",
   "metadata": {},
   "source": [
    "#### Accessing Command History\n",
    "\n",
    "- To repeat the most recent/recently command run, use the up arrow\n",
    "- The down arrow will take you forward in your in the command history  \n",
    "    - Ctrl+C will cancel the command you are writing, and give you a fresh prompt.\n",
    "    - Ctrl+R will do a reverse-search through your command history. This is very useful.\n",
    "    - Ctrl+L or the clear command will clear your screen.\n",
    "\n",
    "\n",
    "- To review recent command history\n",
    "    - `history` \n",
    "- To rerun a specific command in your command history \n",
    "    - add a ! in front of the number\n",
    "        - e.g., `!22`\n",
    "\n",
    "#### Examining Files \n",
    "\n",
    "- To examine content in a file you can use `less`\n",
    "    - `less practicetext_1`\n",
    "        - Space\tto go forward\n",
    "        - b\tto go backward\n",
    "        - g\tto go to the beginning\n",
    "        - G\tto go to the end\n",
    "        - q\tto quit\n",
    "    - `head practicetext_1` or `tail practicetext_1`\n",
    "        1. use `-n` option after head/tail to print only the first or last line\n",
    "    - `wc practicetext_1`\n",
    "        2. to view the number of lines, words and characters in the file\n",
    "    - `wc -l practicetext_1`\n",
    "        3. to view only the number of lines\n",
    "    - `-n` \n",
    "       4. to view numerically \n",
    "       \n",
    "- Wildcards or meta characters can also be used to examine or search for content\n",
    "    - `*` represents **any** number of unknown characters. This is useful when searching for documents or files where you only remember a part of the name. \n",
    "    - `?` represents **only one** unknown character. This is useful when you have a list of similiarly named files and are unsure of a few characters. \n",
    "    - `[]` is used to match any occurances of characters defined inside the brackets. \n",
    "            \n",
    "    \n",
    "    \n",
    "#### Searching Files  \n",
    "- To search text files for lines matching a specific set of characters or a paticular pattern, without having to open them, use `grep`\n",
    "    - Example:\n",
    "        ~~~ bash\n",
    "         $ grep [option/flag] PATTERN [file...]\n",
    "         \n",
    "         $ grep 'Horatio' practicetext_1.txt\n",
    "         ~~~\n",
    "  \n",
    "- To execute several processes at the same time, use pipe `|`\n",
    "   - Example:\n",
    "    ~~~ bash \n",
    "        $ grep 'Horatio' practicetext_1.txt| less\n",
    "        \n",
    "        $ grep 'Horatio' practicetext_1.txt| wc -l\n",
    "    ~~~\n",
    "    "
   ]
  },
  {
   "cell_type": "markdown",
   "id": "723e49ad-3fb6-42aa-aabc-e6f066de03a9",
   "metadata": {},
   "source": [
    "#### Copying and moving \n",
    "- Make a copy of the text file\n",
    "    - `cp practicetext_1  practicetext_1_copy`\n",
    "    - check that a copy of our text data was made `ls -F`\n",
    "- Make a backup directory to store the copy of the text data and any copies\n",
    "    - `mkdir backup`\n",
    "    - Note: make sure you are creating directories in the correct working directory (i.e., make sure you are in the right working directory)\n",
    "- Move your copy of the text data into the backup directory\n",
    "    - `mv practicetext_1_copy backup`\n",
    "- You can either navigate to backup and type ls OR type `ls backup`\n",
    "- Rename the copy of the text\n",
    "    - `mv` also let's you rename files \n",
    "        - `mv practicetext_1_copy practicetext_1_backup`"
   ]
  },
  {
   "cell_type": "markdown",
   "id": "715da746-2e75-490c-a4a4-ee48fe861697",
   "metadata": {},
   "source": [
    "#### Removing Files & Directories\n",
    "\n",
    "- Remove the backup copy of the text file\n",
    "    - `rm practicetext_1_backup`\n",
    "- Remove all of the directories under name1\n",
    "    - `rm -r name1`\n",
    "        - A recursive flag `-r` will need to be added to tell rm to remove a directory\n",
    "    - Note, remove will permanently delete a file but also any content in a directory (i.e., not only the directory name1 but will also remove everything in the directory)    "
   ]
  },
  {
   "cell_type": "markdown",
   "id": "7e0d32d0-b774-4b25-94f5-7685236a765b",
   "metadata": {},
   "source": [
    "##### That's all folks!"
   ]
  },
  {
   "cell_type": "markdown",
   "id": "f4ded929-b8cf-4c9e-a24c-761f1ee7e444",
   "metadata": {},
   "source": [
    "If there's more time check out:\n",
    "- [pipes and for loops](https://datacarpentry.org/shell-genomics/04-redirection.html#file-extensions---part-2) (there's also [file manipulation](https://datacarpentry.org/shell-genomics/04-redirection.html#file-extensions---part-2))\n",
    "- [moving and downloading data](https://datacarpentry.org/shell-genomics/04-redirection.html#file-extensions---part-2)"
   ]
  },
  {
   "cell_type": "code",
   "execution_count": 3,
   "id": "38127adf-607f-4a65-baa9-b613b558e58b",
   "metadata": {},
   "outputs": [],
   "source": [
    "#jupyter-nbconvert --to pdfviahtml lencia-commandlinecrashcourse.ipynb"
   ]
  },
  {
   "cell_type": "code",
   "execution_count": null,
   "id": "abb36b8d-f361-43f9-8f71-dbb5255406a0",
   "metadata": {},
   "outputs": [],
   "source": []
  }
 ],
 "metadata": {
  "kernelspec": {
   "display_name": "Python 3",
   "language": "python",
   "name": "python3"
  },
  "language_info": {
   "codemirror_mode": {
    "name": "ipython",
    "version": 3
   },
   "file_extension": ".py",
   "mimetype": "text/x-python",
   "name": "python",
   "nbconvert_exporter": "python",
   "pygments_lexer": "ipython3",
   "version": "3.8.5"
  }
 },
 "nbformat": 4,
 "nbformat_minor": 5
}
